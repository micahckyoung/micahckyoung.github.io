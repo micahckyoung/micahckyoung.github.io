{
 "cells": [
  {
   "cell_type": "markdown",
   "metadata": {},
   "source": [
    "the purpose of this code is to run road_link_v3 to create nodes_df and edges_df"
   ]
  },
  {
   "cell_type": "markdown",
   "metadata": {},
   "source": [
    "this .ipynb was originally named 241216_road_link_sandbox_v2.ipynb"
   ]
  },
  {
   "cell_type": "markdown",
   "metadata": {},
   "source": [
    "note: I updated the code to run with the latest penalty_dictionary"
   ]
  },
  {
   "cell_type": "code",
   "execution_count": 1,
   "metadata": {},
   "outputs": [],
   "source": [
    "import sys, os\n",
    "import glob\n",
    "code_path = os.path.join(os.path.dirname(os.getcwd()), 'code')\n",
    "sys.path.append(code_path)\n",
    "from road_link_v3 import *\n",
    "pd.set_option('display.max_columns', None)"
   ]
  },
  {
   "cell_type": "code",
   "execution_count": 2,
   "metadata": {},
   "outputs": [],
   "source": [
    "penalty_dictionary = {\n",
    "   'Minor-Minor': 0.7,\n",
    "   'Major-Major': 1.0,\n",
    "   'Minor-Link': 0.9,\n",
    "   'Link-Major': 0.9,\n",
    "   'Link-Link': 0.9,\n",
    "   'Link-Minor': 0.9,\n",
    "   'Minor-Major': 0.6,\n",
    "   'Minor-no_connections': 0.6,\n",
    "   'Link-no_connections': 0.9,\n",
    "   'Major-no_connections': 0.9,\n",
    "   'Major-Link': 0.9,\n",
    "   'Major-Minor': 0.9\n",
    "}"
   ]
  },
  {
   "cell_type": "code",
   "execution_count": 3,
   "metadata": {},
   "outputs": [
    {
     "name": "stdout",
     "output_type": "stream",
     "text": [
      "total number of edges: 42512\n",
      "number of edges missing 'highway': 0\n",
      "number of edges missing 'lanes': 31567\n",
      "number of edges missing 'maxspeed': 36804\n",
      "number of rows before dropping duplicates: 80086\n",
      "number of rows after dropping duplicates: 42894\n",
      "Network created with 18262 nodes and 42152 edges\n",
      "Warning: Network contains disconnected components\n",
      "Number of strongly connected components: 111\n",
      "Component 0 has 18146 nodes\n",
      "Component 1 has 4 nodes\n",
      "Component 2 has 2 nodes\n",
      "Component 3 has 2 nodes\n",
      "\n",
      "Final network has 42755 edges\n",
      "Component distribution:\n",
      "component_id\n",
      "0    42743\n",
      "1        7\n",
      "3        3\n",
      "2        2\n",
      "Name: count, dtype: int64\n",
      "number of nodes before filtering: 18263\n",
      "number of nodes after filtering: 18147\n"
     ]
    }
   ],
   "source": [
    "nodes_df, edges_df = main_preparation(penalty_dictionary)"
   ]
  },
  {
   "cell_type": "code",
   "execution_count": null,
   "metadata": {},
   "outputs": [],
   "source": [
    "# save_path = os.path.join(os.path.dirname(os.getcwd()), 'datasets', 'processed')\n",
    "# nodes_df.to_file(save_path + \"/\" + \"nodes.gpkg\", driver=\"GPKG\")\n",
    "# edges_df.to_file(save_path + \"/\" + \"edges.gpkg\", driver=\"GPKG\")"
   ]
  }
 ],
 "metadata": {
  "kernelspec": {
   "display_name": "241211_traffic_simulation",
   "language": "python",
   "name": "python3"
  },
  "language_info": {
   "codemirror_mode": {
    "name": "ipython",
    "version": 3
   },
   "file_extension": ".py",
   "mimetype": "text/x-python",
   "name": "python",
   "nbconvert_exporter": "python",
   "pygments_lexer": "ipython3",
   "version": "3.12.2"
  }
 },
 "nbformat": 4,
 "nbformat_minor": 2
}
