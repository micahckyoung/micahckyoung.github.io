{
 "cells": [
  {
   "cell_type": "markdown",
   "metadata": {},
   "source": [
    "the purpose of this code is to create a final origin destination matrix with origin_destination_v2"
   ]
  },
  {
   "cell_type": "markdown",
   "metadata": {},
   "source": [
    "this file was originally called 241216_od_sandbox_v1.ipynb"
   ]
  },
  {
   "cell_type": "code",
   "execution_count": 1,
   "metadata": {},
   "outputs": [],
   "source": [
    "import sys, os\n",
    "import glob\n",
    "code_path = os.path.join(os.path.dirname(os.getcwd()), 'code')\n",
    "sys.path.append(code_path)\n",
    "from origin_destination_v2 import *\n",
    "pd.set_option('display.max_columns', None)"
   ]
  },
  {
   "cell_type": "code",
   "execution_count": 2,
   "metadata": {},
   "outputs": [
    {
     "name": "stdout",
     "output_type": "stream",
     "text": [
      "Total LODES flow covered: 370412\n",
      "Number of unique census blocks across both columns: 5260\n",
      "Number of nodes before filtering for two-way streets: 18147\n",
      "Number of nodes after filtering for two-way streets: 18146\n",
      "There are 1374 out of 5260 Census Blocks that don't border a single node\n",
      "There are 20 out of 5260 Census Blocks that don't border any other Census Blocks\n",
      "There are 988 Census Blocks that don't have nodes, but that have neighbors that do\n",
      "There are 386 Census Blocks that don't have any nodes or neighbors with nodes\n",
      "Tagged 386 Census Blocks with their nearest node\n",
      "There are 4874 Census Blocks that do have nodes or neighbors with nodes\n",
      "All tagged CBs have nodes\n"
     ]
    },
    {
     "name": "stderr",
     "output_type": "stream",
     "text": [
      "/Users/myoung/anaconda3/envs/241211_traffic_simulation/lib/python3.12/site-packages/geopandas/geodataframe.py:1819: SettingWithCopyWarning: \n",
      "A value is trying to be set on a copy of a slice from a DataFrame.\n",
      "Try using .loc[row_indexer,col_indexer] = value instead\n",
      "\n",
      "See the caveats in the documentation: https://pandas.pydata.org/pandas-docs/stable/user_guide/indexing.html#returning-a-view-versus-a-copy\n",
      "  super().__setitem__(key, value)\n"
     ]
    },
    {
     "name": "stdout",
     "output_type": "stream",
     "text": [
      "Carpool components sum to total for all CBGs: True\n",
      "Car total <= total workers for all CBGs: True\n",
      "All totals from function convert_acs_departure_time_to_cars() match\n",
      "Number of rows before dropping same origin and destination: 191945\n",
      "Number of rows after dropping same origin and destination: 191219\n"
     ]
    }
   ],
   "source": [
    "od_matrix = main_origin_destination_matrix_function()"
   ]
  },
  {
   "cell_type": "code",
   "execution_count": null,
   "metadata": {},
   "outputs": [],
   "source": [
    "# save_path = os.path.join(os.path.dirname(os.getcwd()), 'datasets', 'processed', 'od_matrix.csv')\n",
    "# od_matrix.to_csv(save_path, index=False)"
   ]
  }
 ],
 "metadata": {
  "kernelspec": {
   "display_name": "241211_traffic_simulation",
   "language": "python",
   "name": "python3"
  },
  "language_info": {
   "codemirror_mode": {
    "name": "ipython",
    "version": 3
   },
   "file_extension": ".py",
   "mimetype": "text/x-python",
   "name": "python",
   "nbconvert_exporter": "python",
   "pygments_lexer": "ipython3",
   "version": "3.12.2"
  }
 },
 "nbformat": 4,
 "nbformat_minor": 2
}
